{
 "cells": [
  {
   "cell_type": "markdown",
   "id": "bdbbd1c8",
   "metadata": {
    "toc": true
   },
   "source": [
    "<h1>Table of Contents<span class=\"tocSkip\"></span></h1>\n",
    "<div class=\"toc\"><ul class=\"toc-item\"></ul></div>"
   ]
  },
  {
   "cell_type": "code",
   "execution_count": 1,
   "id": "1ff6ea02",
   "metadata": {},
   "outputs": [
    {
     "name": "stdout",
     "output_type": "stream",
     "text": [
      "Looking in indexes: https://pypi.tuna.tsinghua.edu.cn/simple\r\n",
      "Requirement already satisfied: pyecharts in /Users/wangzhanzhi/anaconda3/lib/python3.9/site-packages (2.0.5)\r\n",
      "Requirement already satisfied: pandas in /Users/wangzhanzhi/anaconda3/lib/python3.9/site-packages (1.4.4)\r\n",
      "Requirement already satisfied: jinja2 in /Users/wangzhanzhi/anaconda3/lib/python3.9/site-packages (from pyecharts) (2.11.3)\r\n",
      "Requirement already satisfied: prettytable in /Users/wangzhanzhi/anaconda3/lib/python3.9/site-packages (from pyecharts) (3.10.0)\r\n",
      "Requirement already satisfied: simplejson in /Users/wangzhanzhi/anaconda3/lib/python3.9/site-packages (from pyecharts) (3.19.2)\r\n",
      "Requirement already satisfied: python-dateutil>=2.8.1 in /Users/wangzhanzhi/anaconda3/lib/python3.9/site-packages (from pandas) (2.8.2)\r\n",
      "Requirement already satisfied: pytz>=2020.1 in /Users/wangzhanzhi/anaconda3/lib/python3.9/site-packages (from pandas) (2022.1)\r\n",
      "Requirement already satisfied: numpy>=1.18.5 in /Users/wangzhanzhi/anaconda3/lib/python3.9/site-packages (from pandas) (1.21.5)\r\n",
      "Requirement already satisfied: six>=1.5 in /Users/wangzhanzhi/anaconda3/lib/python3.9/site-packages (from python-dateutil>=2.8.1->pandas) (1.16.0)\r\n",
      "Requirement already satisfied: MarkupSafe>=0.23 in /Users/wangzhanzhi/anaconda3/lib/python3.9/site-packages (from jinja2->pyecharts) (2.0.1)\r\n",
      "Requirement already satisfied: wcwidth in /Users/wangzhanzhi/anaconda3/lib/python3.9/site-packages (from prettytable->pyecharts) (0.2.5)\r\n"
     ]
    }
   ],
   "source": [
    "!pip install pyecharts pandas"
   ]
  },
  {
   "cell_type": "code",
   "execution_count": 1,
   "id": "eebcc1ca",
   "metadata": {},
   "outputs": [],
   "source": [
    "import pandas as pd"
   ]
  },
  {
   "cell_type": "code",
   "execution_count": 2,
   "id": "f3c3e5ab",
   "metadata": {
    "scrolled": true
   },
   "outputs": [
    {
     "data": {
      "text/html": [
       "<div>\n",
       "<style scoped>\n",
       "    .dataframe tbody tr th:only-of-type {\n",
       "        vertical-align: middle;\n",
       "    }\n",
       "\n",
       "    .dataframe tbody tr th {\n",
       "        vertical-align: top;\n",
       "    }\n",
       "\n",
       "    .dataframe thead th {\n",
       "        text-align: right;\n",
       "    }\n",
       "</style>\n",
       "<table border=\"1\" class=\"dataframe\">\n",
       "  <thead>\n",
       "    <tr style=\"text-align: right;\">\n",
       "      <th></th>\n",
       "      <th>统计年度</th>\n",
       "      <th>地区代码</th>\n",
       "      <th>地区名称</th>\n",
       "      <th>科技生产力</th>\n",
       "      <th>绿色生产力</th>\n",
       "      <th>数字生产力</th>\n",
       "      <th>地区新质生产力水平</th>\n",
       "    </tr>\n",
       "  </thead>\n",
       "  <tbody>\n",
       "    <tr>\n",
       "      <th>155</th>\n",
       "      <td>2011</td>\n",
       "      <td>340000</td>\n",
       "      <td>安徽省</td>\n",
       "      <td>0.014292</td>\n",
       "      <td>0.001202</td>\n",
       "      <td>0.004271</td>\n",
       "      <td>0.009570</td>\n",
       "    </tr>\n",
       "    <tr>\n",
       "      <th>112</th>\n",
       "      <td>2010</td>\n",
       "      <td>310000</td>\n",
       "      <td>上海市</td>\n",
       "      <td>0.034178</td>\n",
       "      <td>0.002192</td>\n",
       "      <td>0.020182</td>\n",
       "      <td>0.026253</td>\n",
       "    </tr>\n",
       "    <tr>\n",
       "      <th>370</th>\n",
       "      <td>2016</td>\n",
       "      <td>610000</td>\n",
       "      <td>陕西省</td>\n",
       "      <td>0.016231</td>\n",
       "      <td>0.000471</td>\n",
       "      <td>0.012936</td>\n",
       "      <td>0.014133</td>\n",
       "    </tr>\n",
       "    <tr>\n",
       "      <th>130</th>\n",
       "      <td>2014</td>\n",
       "      <td>320000</td>\n",
       "      <td>江苏省</td>\n",
       "      <td>0.123915</td>\n",
       "      <td>0.000562</td>\n",
       "      <td>0.070693</td>\n",
       "      <td>0.096898</td>\n",
       "    </tr>\n",
       "    <tr>\n",
       "      <th>255</th>\n",
       "      <td>2013</td>\n",
       "      <td>440000</td>\n",
       "      <td>广东省</td>\n",
       "      <td>0.121430</td>\n",
       "      <td>0.000702</td>\n",
       "      <td>0.051826</td>\n",
       "      <td>0.087927</td>\n",
       "    </tr>\n",
       "  </tbody>\n",
       "</table>\n",
       "</div>"
      ],
      "text/plain": [
       "     统计年度    地区代码 地区名称     科技生产力     绿色生产力     数字生产力  地区新质生产力水平\n",
       "155  2011  340000  安徽省  0.014292  0.001202  0.004271   0.009570\n",
       "112  2010  310000  上海市  0.034178  0.002192  0.020182   0.026253\n",
       "370  2016  610000  陕西省  0.016231  0.000471  0.012936   0.014133\n",
       "130  2014  320000  江苏省  0.123915  0.000562  0.070693   0.096898\n",
       "255  2013  440000  广东省  0.121430  0.000702  0.051826   0.087927"
      ]
     },
     "execution_count": 2,
     "metadata": {},
     "output_type": "execute_result"
    }
   ],
   "source": [
    "df = pd.read_excel(\"/Users/wangzhanzhi/Desktop/人工智能/新质生产力地理分布图/NQPF_AreaNQPLevelLT.xlsx\")\n",
    "df.sample(5)"
   ]
  },
  {
   "cell_type": "code",
   "execution_count": 4,
   "id": "bf1f1482",
   "metadata": {
    "scrolled": true
   },
   "outputs": [
    {
     "name": "stdout",
     "output_type": "stream",
     "text": [
      "<class 'pandas.core.frame.DataFrame'>\n",
      "RangeIndex: 434 entries, 0 to 433\n",
      "Data columns (total 7 columns):\n",
      " #   Column     Non-Null Count  Dtype  \n",
      "---  ------     --------------  -----  \n",
      " 0   统计年度       434 non-null    int64  \n",
      " 1   地区代码       434 non-null    int64  \n",
      " 2   地区名称       434 non-null    object \n",
      " 3   科技生产力      434 non-null    float64\n",
      " 4   绿色生产力      434 non-null    float64\n",
      " 5   数字生产力      434 non-null    float64\n",
      " 6   地区新质生产力水平  434 non-null    float64\n",
      "dtypes: float64(4), int64(2), object(1)\n",
      "memory usage: 23.9+ KB\n"
     ]
    }
   ],
   "source": [
    "df.info()"
   ]
  },
  {
   "cell_type": "code",
   "execution_count": 5,
   "id": "a9141278",
   "metadata": {},
   "outputs": [],
   "source": [
    "df_2023=df[df[\"统计年度\"]==2023]"
   ]
  },
  {
   "cell_type": "code",
   "execution_count": 6,
   "id": "c5c453ce",
   "metadata": {
    "scrolled": true
   },
   "outputs": [
    {
     "data": {
      "text/html": [
       "<div>\n",
       "<style scoped>\n",
       "    .dataframe tbody tr th:only-of-type {\n",
       "        vertical-align: middle;\n",
       "    }\n",
       "\n",
       "    .dataframe tbody tr th {\n",
       "        vertical-align: top;\n",
       "    }\n",
       "\n",
       "    .dataframe thead th {\n",
       "        text-align: right;\n",
       "    }\n",
       "</style>\n",
       "<table border=\"1\" class=\"dataframe\">\n",
       "  <thead>\n",
       "    <tr style=\"text-align: right;\">\n",
       "      <th></th>\n",
       "      <th>地区名称</th>\n",
       "      <th>地区新质生产力水平</th>\n",
       "    </tr>\n",
       "  </thead>\n",
       "  <tbody>\n",
       "    <tr>\n",
       "      <th>125</th>\n",
       "      <td>上海市</td>\n",
       "      <td>0.041138</td>\n",
       "    </tr>\n",
       "    <tr>\n",
       "      <th>279</th>\n",
       "      <td>广西壮族自治区</td>\n",
       "      <td>0.006112</td>\n",
       "    </tr>\n",
       "    <tr>\n",
       "      <th>167</th>\n",
       "      <td>安徽省</td>\n",
       "      <td>0.015609</td>\n",
       "    </tr>\n",
       "    <tr>\n",
       "      <th>433</th>\n",
       "      <td>新疆维吾尔自治区</td>\n",
       "      <td>0.002911</td>\n",
       "    </tr>\n",
       "    <tr>\n",
       "      <th>111</th>\n",
       "      <td>黑龙江省</td>\n",
       "      <td>0.002712</td>\n",
       "    </tr>\n",
       "  </tbody>\n",
       "</table>\n",
       "</div>"
      ],
      "text/plain": [
       "         地区名称  地区新质生产力水平\n",
       "125       上海市   0.041138\n",
       "279   广西壮族自治区   0.006112\n",
       "167       安徽省   0.015609\n",
       "433  新疆维吾尔自治区   0.002911\n",
       "111      黑龙江省   0.002712"
      ]
     },
     "execution_count": 6,
     "metadata": {},
     "output_type": "execute_result"
    }
   ],
   "source": [
    "df_2023 = df_2023[['地区名称', '地区新质生产力水平']]\n",
    "df_2023.sample(5)"
   ]
  },
  {
   "cell_type": "code",
   "execution_count": 7,
   "id": "cc3274be",
   "metadata": {},
   "outputs": [],
   "source": [
    "df_2023.to_csv(\"your_file_2023.csv\", index=False)"
   ]
  },
  {
   "cell_type": "code",
   "execution_count": 10,
   "id": "6b039148",
   "metadata": {
    "scrolled": true
   },
   "outputs": [
    {
     "name": "stdout",
     "output_type": "stream",
     "text": [
      "###\n",
      "region_data = [\n",
      "    (\"北京市\", 0.039576),\n",
      "    (\"天津市\", 0.010856),\n",
      "    (\"河北省\", 0.00994),\n",
      "    (\"山西省\", 0.005394),\n",
      "    (\"内蒙古自治区\", 0.00347),\n",
      "    (\"辽宁省\", 0.009505),\n",
      "    (\"吉林省\", 0.003872),\n",
      "    (\"黑龙江省\", 0.002712),\n",
      "    (\"上海市\", 0.041138),\n",
      "    (\"江苏省\", 0.077954),\n",
      "    (\"浙江省\", 0.043246),\n",
      "    (\"安徽省\", 0.015609),\n",
      "    (\"福建省\", 0.015929),\n",
      "    (\"江西省\", 0.009631),\n",
      "    (\"山东省\", 0.036852),\n",
      "    (\"河南省\", 0.014227),\n",
      "    (\"湖北省\", 0.015456),\n",
      "    (\"湖南省\", 0.01211),\n",
      "    (\"广东省\", 0.090266),\n",
      "    (\"广西壮族自治区\", 0.006112),\n",
      "    (\"海南省\", 0.002254),\n",
      "    (\"重庆市\", 0.012084),\n",
      "    (\"四川省\", 0.019197),\n",
      "    (\"贵州省\", 0.005086),\n",
      "    (\"云南省\", 0.004653),\n",
      "    (\"西藏自治区\", 0.000215),\n",
      "    (\"陕西省\", 0.009972),\n",
      "    (\"甘肃省\", 0.013733),\n",
      "    (\"青海省\", 0.00203),\n",
      "    (\"宁夏回族自治区\", 0.001528),\n",
      "    (\"新疆维吾尔自治区\", 0.002911),\n",
      "    # 请在此处补充你的实际数据...\n",
      "]\n",
      "###\n"
     ]
    }
   ],
   "source": [
    "import csv\n",
    "\n",
    "output_2023 = \"\"\"###\n",
    "region_data = [\"\"\"\n",
    "\n",
    "with open('your_file_2023.csv', 'r', encoding='utf-8') as file:\n",
    "    reader = csv.reader(file)\n",
    "    next(reader)  # 跳过标题行\n",
    "    for row in reader:\n",
    "        output_2023 += f\"\\n    (\\\"{row[0]}\\\", {float(row[1])}),\"  # 关键修改点\n",
    "\n",
    "output_2023 += \"\"\"\n",
    "    # 请在此处补充你的实际数据...\n",
    "]\n",
    "###\"\"\"\n",
    "\n",
    "print(output_2023)"
   ]
  },
  {
   "cell_type": "code",
   "execution_count": 11,
   "id": "79b68d42",
   "metadata": {},
   "outputs": [
    {
     "data": {
      "text/plain": [
       "[('北京市', 0.039576),\n",
       " ('天津市', 0.010856),\n",
       " ('河北省', 0.00994),\n",
       " ('山西省', 0.005394),\n",
       " ('内蒙古自治区', 0.00347),\n",
       " ('辽宁省', 0.009505),\n",
       " ('吉林省', 0.003872),\n",
       " ('黑龙江省', 0.002712),\n",
       " ('上海市', 0.041138),\n",
       " ('江苏省', 0.077954),\n",
       " ('浙江省', 0.043246),\n",
       " ('安徽省', 0.015609),\n",
       " ('福建省', 0.015929),\n",
       " ('江西省', 0.009631),\n",
       " ('山东省', 0.036852),\n",
       " ('河南省', 0.014227),\n",
       " ('湖北省', 0.015456),\n",
       " ('湖南省', 0.01211),\n",
       " ('广东省', 0.090266),\n",
       " ('广西壮族自治区', 0.006112),\n",
       " ('海南省', 0.002254),\n",
       " ('重庆市', 0.012084),\n",
       " ('四川省', 0.019197),\n",
       " ('贵州省', 0.005086),\n",
       " ('云南省', 0.004653),\n",
       " ('西藏自治区', 0.000215),\n",
       " ('陕西省', 0.009972),\n",
       " ('甘肃省', 0.013733),\n",
       " ('青海省', 0.00203),\n",
       " ('宁夏回族自治区', 0.001528),\n",
       " ('新疆维吾尔自治区', 0.002911)]"
      ]
     },
     "execution_count": 11,
     "metadata": {},
     "output_type": "execute_result"
    }
   ],
   "source": [
    "import ast\n",
    "\n",
    "# 原始字符串（示例）\n",
    "input_str = output_2023\n",
    "\n",
    "# 提取列表部分并处理注释\n",
    "start = input_str.find('[')\n",
    "end = input_str.rfind(']') + 1\n",
    "list_str = input_str[start:end]\n",
    "\n",
    "# 去除注释行\n",
    "cleaned_lines = []\n",
    "for line in list_str.split('\\n'):\n",
    "    if '#' in line:\n",
    "        line = line.split('#')[0]  # 移除行内注释\n",
    "    line = line.strip()\n",
    "    if line:\n",
    "        cleaned_lines.append(line)\n",
    "\n",
    "# 重新组合成合法Python列表字符串\n",
    "cleaned_list_str = '\\n'.join(cleaned_lines)\n",
    "\n",
    "# 安全转换\n",
    "region_data_2023 = ast.literal_eval(cleaned_list_str)\n",
    "\n",
    "# 验证输出\n",
    "region_data_2023"
   ]
  },
  {
   "cell_type": "code",
   "execution_count": 12,
   "id": "1553b20f",
   "metadata": {},
   "outputs": [
    {
     "data": {
      "text/plain": [
       "'/Users/wangzhanzhi/Desktop/人工智能/新质生产力地理分布图/china_map_with_color_2023.html'"
      ]
     },
     "execution_count": 12,
     "metadata": {},
     "output_type": "execute_result"
    }
   ],
   "source": [
    "from pyecharts import options as opts\n",
    "from pyecharts.charts import Map\n",
    "\n",
    "# 关键点1：确保省份名称与PyEcharts标准名称一致（如\"台湾省\"）\n",
    "region_data_2023 = region_data_2023\n",
    "\n",
    "# 关键点2：确保所有省份都有数据，缺失省份可设置为0或默认值\n",
    "# 此处仅为示例，请补充完整你的实际数据\n",
    "\n",
    "# 创建地图对象\n",
    "c = (\n",
    "    Map(init_opts=opts.InitOpts(width=\"1200px\", height=\"800px\"))\n",
    "    .add(\n",
    "        series_name=\"新质生产力水平\",\n",
    "        data_pair=region_data_2023,\n",
    "        maptype=\"china\", \n",
    "        is_map_symbol_show=False,\n",
    "        # 关键点3：启用区域颜色填充\n",
    "        is_roam=True,  # 允许缩放拖动\n",
    "    )\n",
    "    .set_global_opts(\n",
    "        title_opts=opts.TitleOpts(title=\"中国新质生产力水平分布图\"),\n",
    "        visualmap_opts=opts.VisualMapOpts(\n",
    "            min_=min(v for _, v in region_data_2023),\n",
    "            max_=max(v for _, v in region_data_2023),\n",
    "            range_color=[\"#f0f9e8\", \"#bae4bc\", \"#7bccc4\", \"#43a2ca\", \"#0868ac\"],  # 颜色从浅到深\n",
    "            is_piecewise=False,  # 连续型颜色条\n",
    "            pos_left=\"10%\",      # 调整图例位置\n",
    "            orient=\"vertical\"    # 垂直方向\n",
    "        )\n",
    "    )\n",
    "    .set_series_opts(\n",
    "        label_opts=opts.LabelOpts(is_show=False)  # 关闭省份名称显示\n",
    "    )\n",
    ")\n",
    "\n",
    "# 生成文件\n",
    "c.render(\"china_map_with_color_2023.html\")"
   ]
  },
  {
   "cell_type": "code",
   "execution_count": 48,
   "id": "b3feb726",
   "metadata": {
    "scrolled": true
   },
   "outputs": [
    {
     "data": {
      "text/plain": [
       "'/Users/wangzhanzhi/Desktop/人工智能/china_productivity_map_2010.html'"
      ]
     },
     "execution_count": 48,
     "metadata": {},
     "output_type": "execute_result"
    }
   ],
   "source": [
    "from pyecharts import options as opts\n",
    "from pyecharts.charts import Map\n",
    "\n",
    "c = (\n",
    "    Map(init_opts=opts.InitOpts(width=\"1200px\", height=\"800px\"))\n",
    "    .add(\n",
    "        series_name=\"新质生产力水平\",\n",
    "        data_pair=region_data,\n",
    "        maptype=\"china\",\n",
    "        is_map_symbol_show=False,\n",
    "    )\n",
    "    .set_global_opts(\n",
    "        title_opts=opts.TitleOpts(title=\"中国新质生产力水平分布\"),\n",
    "        visualmap_opts=opts.VisualMapOpts(\n",
    "            min_=0,\n",
    "            max_=max(v for _, v in region_data),\n",
    "            range_color=[\"#f0f9e8\", \"#0868ac\"],  # 颜色渐变\n",
    "            is_piecewise=False,\n",
    "            pos_right=\"5%\",    # 向左移动 (原10% → 5%)\n",
    "            pos_top=\"30%\",    # 向上移动 (默认顶部对齐 → 30%)\n",
    "            orient=\"vertical\" # 保持垂直方向\n",
    "        )\n",
    "    )\n",
    "    .set_series_opts(label_opts=opts.LabelOpts(is_show=False))\n",
    ")\n",
    "\n",
    "c.render(\"china_productivity_map_2010.html\")"
   ]
  },
  {
   "cell_type": "code",
   "execution_count": null,
   "id": "2fd3269b",
   "metadata": {},
   "outputs": [],
   "source": []
  },
  {
   "cell_type": "code",
   "execution_count": null,
   "id": "706327ea",
   "metadata": {},
   "outputs": [],
   "source": []
  },
  {
   "cell_type": "code",
   "execution_count": 13,
   "id": "0ceb2541",
   "metadata": {},
   "outputs": [
    {
     "data": {
      "text/html": [
       "<div>\n",
       "<style scoped>\n",
       "    .dataframe tbody tr th:only-of-type {\n",
       "        vertical-align: middle;\n",
       "    }\n",
       "\n",
       "    .dataframe tbody tr th {\n",
       "        vertical-align: top;\n",
       "    }\n",
       "\n",
       "    .dataframe thead th {\n",
       "        text-align: right;\n",
       "    }\n",
       "</style>\n",
       "<table border=\"1\" class=\"dataframe\">\n",
       "  <thead>\n",
       "    <tr style=\"text-align: right;\">\n",
       "      <th></th>\n",
       "      <th>统计年度</th>\n",
       "      <th>地区代码</th>\n",
       "      <th>地区名称</th>\n",
       "      <th>科技生产力</th>\n",
       "      <th>绿色生产力</th>\n",
       "      <th>数字生产力</th>\n",
       "      <th>地区新质生产力水平</th>\n",
       "    </tr>\n",
       "  </thead>\n",
       "  <tbody>\n",
       "    <tr>\n",
       "      <th>28</th>\n",
       "      <td>2010</td>\n",
       "      <td>130000</td>\n",
       "      <td>河北省</td>\n",
       "      <td>0.008165</td>\n",
       "      <td>0.002286</td>\n",
       "      <td>0.005915</td>\n",
       "      <td>0.006832</td>\n",
       "    </tr>\n",
       "    <tr>\n",
       "      <th>336</th>\n",
       "      <td>2010</td>\n",
       "      <td>530000</td>\n",
       "      <td>云南省</td>\n",
       "      <td>0.004268</td>\n",
       "      <td>0.001940</td>\n",
       "      <td>0.003562</td>\n",
       "      <td>0.003811</td>\n",
       "    </tr>\n",
       "    <tr>\n",
       "      <th>70</th>\n",
       "      <td>2010</td>\n",
       "      <td>210000</td>\n",
       "      <td>辽宁省</td>\n",
       "      <td>0.013309</td>\n",
       "      <td>0.002336</td>\n",
       "      <td>0.010106</td>\n",
       "      <td>0.011205</td>\n",
       "    </tr>\n",
       "    <tr>\n",
       "      <th>14</th>\n",
       "      <td>2010</td>\n",
       "      <td>120000</td>\n",
       "      <td>天津市</td>\n",
       "      <td>0.017897</td>\n",
       "      <td>0.002918</td>\n",
       "      <td>0.005113</td>\n",
       "      <td>0.011790</td>\n",
       "    </tr>\n",
       "    <tr>\n",
       "      <th>196</th>\n",
       "      <td>2010</td>\n",
       "      <td>370000</td>\n",
       "      <td>山东省</td>\n",
       "      <td>0.038218</td>\n",
       "      <td>0.002713</td>\n",
       "      <td>0.011807</td>\n",
       "      <td>0.025238</td>\n",
       "    </tr>\n",
       "  </tbody>\n",
       "</table>\n",
       "</div>"
      ],
      "text/plain": [
       "     统计年度    地区代码 地区名称     科技生产力     绿色生产力     数字生产力  地区新质生产力水平\n",
       "28   2010  130000  河北省  0.008165  0.002286  0.005915   0.006832\n",
       "336  2010  530000  云南省  0.004268  0.001940  0.003562   0.003811\n",
       "70   2010  210000  辽宁省  0.013309  0.002336  0.010106   0.011205\n",
       "14   2010  120000  天津市  0.017897  0.002918  0.005113   0.011790\n",
       "196  2010  370000  山东省  0.038218  0.002713  0.011807   0.025238"
      ]
     },
     "execution_count": 13,
     "metadata": {},
     "output_type": "execute_result"
    }
   ],
   "source": [
    "df_2010=df[df[\"统计年度\"]==2010]\n",
    "df_2010.sample(5)"
   ]
  },
  {
   "cell_type": "code",
   "execution_count": 14,
   "id": "15f2b590",
   "metadata": {},
   "outputs": [
    {
     "data": {
      "text/html": [
       "<div>\n",
       "<style scoped>\n",
       "    .dataframe tbody tr th:only-of-type {\n",
       "        vertical-align: middle;\n",
       "    }\n",
       "\n",
       "    .dataframe tbody tr th {\n",
       "        vertical-align: top;\n",
       "    }\n",
       "\n",
       "    .dataframe thead th {\n",
       "        text-align: right;\n",
       "    }\n",
       "</style>\n",
       "<table border=\"1\" class=\"dataframe\">\n",
       "  <thead>\n",
       "    <tr style=\"text-align: right;\">\n",
       "      <th></th>\n",
       "      <th>地区名称</th>\n",
       "      <th>地区新质生产力水平</th>\n",
       "    </tr>\n",
       "  </thead>\n",
       "  <tbody>\n",
       "    <tr>\n",
       "      <th>293</th>\n",
       "      <td>海南省</td>\n",
       "      <td>0.002254</td>\n",
       "    </tr>\n",
       "    <tr>\n",
       "      <th>83</th>\n",
       "      <td>辽宁省</td>\n",
       "      <td>0.009505</td>\n",
       "    </tr>\n",
       "    <tr>\n",
       "      <th>419</th>\n",
       "      <td>宁夏回族自治区</td>\n",
       "      <td>0.001528</td>\n",
       "    </tr>\n",
       "    <tr>\n",
       "      <th>391</th>\n",
       "      <td>甘肃省</td>\n",
       "      <td>0.013733</td>\n",
       "    </tr>\n",
       "    <tr>\n",
       "      <th>41</th>\n",
       "      <td>河北省</td>\n",
       "      <td>0.009940</td>\n",
       "    </tr>\n",
       "  </tbody>\n",
       "</table>\n",
       "</div>"
      ],
      "text/plain": [
       "        地区名称  地区新质生产力水平\n",
       "293      海南省   0.002254\n",
       "83       辽宁省   0.009505\n",
       "419  宁夏回族自治区   0.001528\n",
       "391      甘肃省   0.013733\n",
       "41       河北省   0.009940"
      ]
     },
     "execution_count": 14,
     "metadata": {},
     "output_type": "execute_result"
    }
   ],
   "source": [
    "df_2010 = df_2010[['地区名称', '地区新质生产力水平']]\n",
    "df_2023.sample(5)"
   ]
  },
  {
   "cell_type": "code",
   "execution_count": 15,
   "id": "34994574",
   "metadata": {},
   "outputs": [],
   "source": [
    "df_2010.to_csv(\"your_file_2010.csv\", index=False)"
   ]
  },
  {
   "cell_type": "code",
   "execution_count": 17,
   "id": "33ad5c73",
   "metadata": {},
   "outputs": [
    {
     "name": "stdout",
     "output_type": "stream",
     "text": [
      "###\n",
      "region_data = [\n",
      "    (\"北京市\", 0.019865),\n",
      "    (\"天津市\", 0.01179),\n",
      "    (\"河北省\", 0.006832),\n",
      "    (\"山西省\", 0.004399),\n",
      "    (\"内蒙古自治区\", 0.005371),\n",
      "    (\"辽宁省\", 0.011205),\n",
      "    (\"吉林省\", 0.005073),\n",
      "    (\"黑龙江省\", 0.005921),\n",
      "    (\"上海市\", 0.026253),\n",
      "    (\"江苏省\", 0.048879),\n",
      "    (\"浙江省\", 0.023852),\n",
      "    (\"安徽省\", 0.006226),\n",
      "    (\"福建省\", 0.011641),\n",
      "    (\"江西省\", 0.004158),\n",
      "    (\"山东省\", 0.025238),\n",
      "    (\"河南省\", 0.009737),\n",
      "    (\"湖北省\", 0.007796),\n",
      "    (\"湖南省\", 0.007419),\n",
      "    (\"广东省\", 0.0488),\n",
      "    (\"广西壮族自治区\", 0.004211),\n",
      "    (\"海南省\", 0.006195),\n",
      "    (\"重庆市\", 0.005857),\n",
      "    (\"四川省\", 0.010662),\n",
      "    (\"贵州省\", 0.003508),\n",
      "    (\"云南省\", 0.003811),\n",
      "    (\"西藏自治区\", 0.002927),\n",
      "    (\"陕西省\", 0.007369),\n",
      "    (\"甘肃省\", 0.002691),\n",
      "    (\"青海省\", 0.004573),\n",
      "    (\"宁夏回族自治区\", 0.002071),\n",
      "    (\"新疆维吾尔自治区\", 0.007265),\n",
      "    # 请在此处补充你的实际数据...\n",
      "]\n",
      "###\n"
     ]
    }
   ],
   "source": [
    "import csv\n",
    "\n",
    "output_2010 = \"\"\"###\n",
    "region_data = [\"\"\"\n",
    "\n",
    "with open('your_file_2010.csv', 'r', encoding='utf-8') as file:\n",
    "    reader = csv.reader(file)\n",
    "    next(reader)  # 跳过标题行\n",
    "    for row in reader:\n",
    "        output_2010 += f\"\\n    (\\\"{row[0]}\\\", {float(row[1])}),\"  # 关键修改点\n",
    "\n",
    "output_2010 += \"\"\"\n",
    "    # 请在此处补充你的实际数据...\n",
    "]\n",
    "###\"\"\"\n",
    "\n",
    "print(output_2010)"
   ]
  },
  {
   "cell_type": "code",
   "execution_count": 19,
   "id": "bcb92ab0",
   "metadata": {},
   "outputs": [
    {
     "data": {
      "text/plain": [
       "[('北京市', 0.019865),\n",
       " ('天津市', 0.01179),\n",
       " ('河北省', 0.006832),\n",
       " ('山西省', 0.004399),\n",
       " ('内蒙古自治区', 0.005371),\n",
       " ('辽宁省', 0.011205),\n",
       " ('吉林省', 0.005073),\n",
       " ('黑龙江省', 0.005921),\n",
       " ('上海市', 0.026253),\n",
       " ('江苏省', 0.048879),\n",
       " ('浙江省', 0.023852),\n",
       " ('安徽省', 0.006226),\n",
       " ('福建省', 0.011641),\n",
       " ('江西省', 0.004158),\n",
       " ('山东省', 0.025238),\n",
       " ('河南省', 0.009737),\n",
       " ('湖北省', 0.007796),\n",
       " ('湖南省', 0.007419),\n",
       " ('广东省', 0.0488),\n",
       " ('广西壮族自治区', 0.004211),\n",
       " ('海南省', 0.006195),\n",
       " ('重庆市', 0.005857),\n",
       " ('四川省', 0.010662),\n",
       " ('贵州省', 0.003508),\n",
       " ('云南省', 0.003811),\n",
       " ('西藏自治区', 0.002927),\n",
       " ('陕西省', 0.007369),\n",
       " ('甘肃省', 0.002691),\n",
       " ('青海省', 0.004573),\n",
       " ('宁夏回族自治区', 0.002071),\n",
       " ('新疆维吾尔自治区', 0.007265)]"
      ]
     },
     "execution_count": 19,
     "metadata": {},
     "output_type": "execute_result"
    }
   ],
   "source": [
    "import ast\n",
    "\n",
    "# 原始字符串（示例）\n",
    "input_str = output_2010\n",
    "\n",
    "# 提取列表部分并处理注释\n",
    "start = input_str.find('[')\n",
    "end = input_str.rfind(']') + 1\n",
    "list_str = input_str[start:end]\n",
    "\n",
    "# 去除注释行\n",
    "cleaned_lines = []\n",
    "for line in list_str.split('\\n'):\n",
    "    if '#' in line:\n",
    "        line = line.split('#')[0]  # 移除行内注释\n",
    "    line = line.strip()\n",
    "    if line:\n",
    "        cleaned_lines.append(line)\n",
    "\n",
    "# 重新组合成合法Python列表字符串\n",
    "cleaned_list_str = '\\n'.join(cleaned_lines)\n",
    "\n",
    "# 安全转换\n",
    "region_data_2010 = ast.literal_eval(cleaned_list_str)\n",
    "\n",
    "# 验证输出\n",
    "region_data_2010"
   ]
  },
  {
   "cell_type": "code",
   "execution_count": 20,
   "id": "0dfc81f1",
   "metadata": {},
   "outputs": [
    {
     "data": {
      "text/plain": [
       "'/Users/wangzhanzhi/Desktop/人工智能/新质生产力地理分布图/china_productivity_map_2010.html'"
      ]
     },
     "execution_count": 20,
     "metadata": {},
     "output_type": "execute_result"
    }
   ],
   "source": [
    "from pyecharts import options as opts\n",
    "from pyecharts.charts import Map\n",
    "\n",
    "c = (\n",
    "    Map(init_opts=opts.InitOpts(width=\"1200px\", height=\"800px\"))\n",
    "    .add(\n",
    "        series_name=\"新质生产力水平\",\n",
    "        data_pair=region_data_2010,\n",
    "        maptype=\"china\",\n",
    "        is_map_symbol_show=False,\n",
    "    )\n",
    "    .set_global_opts(\n",
    "        title_opts=opts.TitleOpts(title=\"中国新质生产力水平分布\"),\n",
    "        visualmap_opts=opts.VisualMapOpts(\n",
    "            min_=0,\n",
    "            max_=max(v for _, v in region_data_2010),\n",
    "            range_color=[\"#f0f9e8\", \"#0868ac\"],  # 颜色渐变\n",
    "            is_piecewise=False,\n",
    "            pos_right=\"5%\",    # 向左移动 (原10% → 5%)\n",
    "            pos_top=\"30%\",    # 向上移动 (默认顶部对齐 → 30%)\n",
    "            orient=\"vertical\" # 保持垂直方向\n",
    "        )\n",
    "    )\n",
    "    .set_series_opts(label_opts=opts.LabelOpts(is_show=False))\n",
    ")\n",
    "\n",
    "c.render(\"china_productivity_map_2010.html\")"
   ]
  },
  {
   "cell_type": "code",
   "execution_count": null,
   "id": "c6723413",
   "metadata": {},
   "outputs": [],
   "source": []
  }
 ],
 "metadata": {
  "kernelspec": {
   "display_name": "Python 3 (ipykernel)",
   "language": "python",
   "name": "python3"
  },
  "language_info": {
   "codemirror_mode": {
    "name": "ipython",
    "version": 3
   },
   "file_extension": ".py",
   "mimetype": "text/x-python",
   "name": "python",
   "nbconvert_exporter": "python",
   "pygments_lexer": "ipython3",
   "version": "3.9.21"
  },
  "toc": {
   "base_numbering": 1,
   "nav_menu": {},
   "number_sections": false,
   "sideBar": true,
   "skip_h1_title": false,
   "title_cell": "Table of Contents",
   "title_sidebar": "Contents",
   "toc_cell": true,
   "toc_position": {},
   "toc_section_display": true,
   "toc_window_display": false
  }
 },
 "nbformat": 4,
 "nbformat_minor": 5
}
